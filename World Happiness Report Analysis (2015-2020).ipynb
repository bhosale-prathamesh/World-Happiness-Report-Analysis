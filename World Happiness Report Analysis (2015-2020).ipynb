{
 "cells": [
  {
   "cell_type": "markdown",
   "metadata": {},
   "source": [
    "# Analysis of World Happiness Report\n",
    "#### Studying the various factors that might affect a countries Happiness\n",
    "Source: https://www.kaggle.com/mathurinache/world-happiness-report"
   ]
  },
  {
   "cell_type": "code",
   "execution_count": 2,
   "metadata": {},
   "outputs": [],
   "source": [
    "import pandas as pd \n",
    "\n",
    "data_2015 = pd.read_csv('2015.csv')\n",
    "data_2016 = pd.read_csv('2016.csv')\n",
    "data_2017 = pd.read_csv('2017.csv')\n",
    "data_2018 = pd.read_csv('2018.csv')\n",
    "data_2019 = pd.read_csv('2019.csv')\n",
    "data_2020 = pd.read_csv('2020.csv')"
   ]
  },
  {
   "cell_type": "markdown",
   "metadata": {},
   "source": [
    "## 2015 World Happiness Report Analysis"
   ]
  },
  {
   "cell_type": "code",
   "execution_count": 3,
   "metadata": {},
   "outputs": [
    {
     "data": {
      "text/plain": [
       "Index(['Country', 'Region', 'Happiness Rank', 'Happiness Score',\n",
       "       'Standard Error', 'Economy (GDP per Capita)', 'Family',\n",
       "       'Health (Life Expectancy)', 'Freedom', 'Trust (Government Corruption)',\n",
       "       'Generosity', 'Dystopia Residual'],\n",
       "      dtype='object')"
      ]
     },
     "execution_count": 3,
     "metadata": {},
     "output_type": "execute_result"
    }
   ],
   "source": [
    "import matplotlib.pyplot as plt\n",
    "\n",
    "data_2015.columns"
   ]
  },
  {
   "cell_type": "markdown",
   "metadata": {},
   "source": [
    "### Details of Columns\n",
    "-  <b>Country</b>: Name of the Country\n",
    "-  <b>Region</b>: Region the Country belongs to\n",
    "-  <b>Happiness Rank</b>: Rank of the country based on the Happiness Score.\n",
    "-  <b>Happiness Score</b>: A metric measured in 2015 by asking the sampled people the question: \"How would you rate your happiness on a scale of 0 to 10 where 10 is the happiest.\"\n",
    "-  <b>Standard Error</b>: The standard error of the happiness score.\n",
    "-  <b>Economy (GDP per Capita)</b>: The extent to which GDP contributes to the calculation of the Happiness Score.\n",
    "-  <b>Family</b>: The extent to which Family contributes to the calculation of the Happiness Score\n",
    "-  <b>Health (Life Expectancy)</b>: The extent to which Life expectancy contributed to the calculation of the Happiness Score\n",
    "-  <b>Freedom</b>: The extent to which Freedom contributed to the calculation of the Happiness Score.\n",
    "-  <b>Trust (Government Corruption)</b>: The extent to which Perception of Corruption contributes to Happiness Score.\n",
    "-  <b>Generosity</b>: The extent to which Generosity contributed to the calculation of the Happiness Score.\n",
    "-  <b>Dystopia Residual</b>: The extent to which Dystopia Residual contributed to the calculation of the Happiness Score."
   ]
  },
  {
   "cell_type": "code",
   "execution_count": 4,
   "metadata": {},
   "outputs": [
    {
     "name": "stdout",
     "output_type": "stream",
     "text": [
      "Top 10 Happiest Countries in 2015 :)\n"
     ]
    },
    {
     "data": {
      "text/plain": [
       "0    Switzerland\n",
       "1        Iceland\n",
       "2        Denmark\n",
       "3         Norway\n",
       "4         Canada\n",
       "5        Finland\n",
       "6    Netherlands\n",
       "7         Sweden\n",
       "8    New Zealand\n",
       "9      Australia\n",
       "Name: Country, dtype: object"
      ]
     },
     "execution_count": 4,
     "metadata": {},
     "output_type": "execute_result"
    }
   ],
   "source": [
    "print('Top 10 Happiest Countries in 2015 :)')\n",
    "data_2015.Country.head(10)"
   ]
  },
  {
   "cell_type": "code",
   "execution_count": 5,
   "metadata": {
    "scrolled": true
   },
   "outputs": [
    {
     "name": "stdout",
     "output_type": "stream",
     "text": [
      "0               Western Europe\n",
      "1               Western Europe\n",
      "2               Western Europe\n",
      "3               Western Europe\n",
      "4                North America\n",
      "5               Western Europe\n",
      "6               Western Europe\n",
      "7               Western Europe\n",
      "8    Australia and New Zealand\n",
      "9    Australia and New Zealand\n",
      "Name: Region, dtype: object\n"
     ]
    }
   ],
   "source": [
    "region  = data_2015.Region.head(10)\n",
    "print(region)"
   ]
  },
  {
   "cell_type": "code",
   "execution_count": 6,
   "metadata": {},
   "outputs": [
    {
     "name": "stdout",
     "output_type": "stream",
     "text": [
      "Which region are these countries from?\n"
     ]
    },
    {
     "data": {
      "text/plain": [
       "<matplotlib.axes._subplots.AxesSubplot at 0x19b01e01eb0>"
      ]
     },
     "execution_count": 6,
     "metadata": {},
     "output_type": "execute_result"
    },
    {
     "data": {
      "image/png": "[encoded data removed]",
      "text/plain": [
       "<Figure size 432x288 with 1 Axes>"
      ]
     },
     "metadata": {
      "needs_background": "light"
     },
     "output_type": "display_data"
    }
   ],
   "source": [
    "print('Which region are these countries from?')\n",
    "region.value_counts().plot(kind='bar',alpha=0.8)"
   ]
  },
  {
   "cell_type": "code",
   "execution_count": 7,
   "metadata": {},
   "outputs": [
    {
     "name": "stdout",
     "output_type": "stream",
     "text": [
      "Which region are all countries from?\n"
     ]
    },
    {
     "data": {
      "text/plain": [
       "<matplotlib.axes._subplots.AxesSubplot at 0x19b03f10190>"
      ]
     },
     "execution_count": 7,
     "metadata": {},
     "output_type": "execute_result"
    },
    {
     "data": {
      "image/png": "[encoded data removed]",
      "text/plain": [
       "<Figure size 432x288 with 1 Axes>"
      ]
     },
     "metadata": {
      "needs_background": "light"
     },
     "output_type": "display_data"
    }
   ],
   "source": [
    "print('Which region are all countries from?')\n",
    "data_2015.Region.value_counts().plot(kind='bar',alpha=0.8)"
   ]
  },
  {
   "cell_type": "code",
   "execution_count": null,
   "metadata": {},
   "outputs": [],
   "source": []
  },
  {
   "cell_type": "code",
   "execution_count": 8,
   "metadata": {},
   "outputs": [
    {
     "name": "stdout",
     "output_type": "stream",
     "text": [
      "Total number of countries in Report:  158\n"
     ]
    }
   ],
   "source": [
    "print('Total number of countries in Report: ',len(data_2015))"
   ]
  },
  {
   "cell_type": "markdown",
   "metadata": {},
   "source": [
    "### Comparision \n",
    "To compare the countries they are separated in 5 groups based on their Ranks<br>\n",
    "<li>Group 1: 1 - 31\n",
    "<li>Group 2: 32 - 63\n",
    "<li>Group 3: 64 - 95\n",
    "<li>Group 4: 96 - 127\n",
    "<li>Group 5: 128 - 158"
   ]
  },
  {
   "cell_type": "code",
   "execution_count": 9,
   "metadata": {},
   "outputs": [],
   "source": [
    "group_1 = data_2015[0:31]\n",
    "group_2 = data_2015[31:63]\n",
    "group_3 = data_2015[63:95]\n",
    "group_4 = data_2015[95:127]\n",
    "group_5 = data_2015[127:]"
   ]
  },
  {
   "cell_type": "code",
   "execution_count": 10,
   "metadata": {},
   "outputs": [
    {
     "data": {
      "text/html": [
       "<div>\n",
       "<style scoped>\n",
       "    .dataframe tbody tr th:only-of-type {\n",
       "        vertical-align: middle;\n",
       "    }\n",
       "\n",
       "    .dataframe tbody tr th {\n",
       "        vertical-align: top;\n",
       "    }\n",
       "\n",
       "    .dataframe thead th {\n",
       "        text-align: right;\n",
       "    }\n",
       "</style>\n",
       "<table border=\"1\" class=\"dataframe\">\n",
       "  <thead>\n",
       "    <tr style=\"text-align: right;\">\n",
       "      <th></th>\n",
       "      <th>Happiness Score</th>\n",
       "      <th>Economy</th>\n",
       "      <th>Family</th>\n",
       "      <th>Health</th>\n",
       "      <th>Freedom</th>\n",
       "      <th>Trust</th>\n",
       "      <th>Generosity</th>\n",
       "    </tr>\n",
       "  </thead>\n",
       "  <tbody>\n",
       "    <tr>\n",
       "      <th>group_1</th>\n",
       "      <td>7.059935</td>\n",
       "      <td>1.283531</td>\n",
       "      <td>1.241786</td>\n",
       "      <td>0.870506</td>\n",
       "      <td>0.580847</td>\n",
       "      <td>0.271536</td>\n",
       "      <td>0.300909</td>\n",
       "    </tr>\n",
       "    <tr>\n",
       "      <th>group_2</th>\n",
       "      <td>6.041437</td>\n",
       "      <td>1.049322</td>\n",
       "      <td>1.146392</td>\n",
       "      <td>0.751731</td>\n",
       "      <td>0.469687</td>\n",
       "      <td>0.116059</td>\n",
       "      <td>0.211010</td>\n",
       "    </tr>\n",
       "    <tr>\n",
       "      <th>group_3</th>\n",
       "      <td>5.294219</td>\n",
       "      <td>0.863479</td>\n",
       "      <td>0.987770</td>\n",
       "      <td>0.658382</td>\n",
       "      <td>0.405358</td>\n",
       "      <td>0.111738</td>\n",
       "      <td>0.220594</td>\n",
       "    </tr>\n",
       "    <tr>\n",
       "      <th>group_4</th>\n",
       "      <td>4.666375</td>\n",
       "      <td>0.604385</td>\n",
       "      <td>0.874978</td>\n",
       "      <td>0.502717</td>\n",
       "      <td>0.319428</td>\n",
       "      <td>0.094552</td>\n",
       "      <td>0.220584</td>\n",
       "    </tr>\n",
       "    <tr>\n",
       "      <th>group_5</th>\n",
       "      <td>3.820742</td>\n",
       "      <td>0.430653</td>\n",
       "      <td>0.703142</td>\n",
       "      <td>0.367250</td>\n",
       "      <td>0.370702</td>\n",
       "      <td>0.126706</td>\n",
       "      <td>0.235305</td>\n",
       "    </tr>\n",
       "  </tbody>\n",
       "</table>\n",
       "</div>"
      ],
      "text/plain": [
       "         Happiness Score   Economy    Family    Health   Freedom     Trust  \\\n",
       "group_1         7.059935  1.283531  1.241786  0.870506  0.580847  0.271536   \n",
       "group_2         6.041437  1.049322  1.146392  0.751731  0.469687  0.116059   \n",
       "group_3         5.294219  0.863479  0.987770  0.658382  0.405358  0.111738   \n",
       "group_4         4.666375  0.604385  0.874978  0.502717  0.319428  0.094552   \n",
       "group_5         3.820742  0.430653  0.703142  0.367250  0.370702  0.126706   \n",
       "\n",
       "         Generosity  \n",
       "group_1    0.300909  \n",
       "group_2    0.211010  \n",
       "group_3    0.220594  \n",
       "group_4    0.220584  \n",
       "group_5    0.235305  "
      ]
     },
     "execution_count": 10,
     "metadata": {},
     "output_type": "execute_result"
    }
   ],
   "source": [
    "index=['group_1','group_2','group_3','group_4','group_5']\n",
    "summary_2015 = pd.DataFrame(data={'Happiness Score':[group_1['Happiness Score'].mean(),\n",
    "                                          group_2['Happiness Score'].mean(),\n",
    "                                          group_3['Happiness Score'].mean(),\n",
    "                                          group_4['Happiness Score'].mean(),\n",
    "                                          group_5['Happiness Score'].mean()],\n",
    "                                 'Economy':[group_1['Economy (GDP per Capita)'].mean(),\n",
    "                                          group_2['Economy (GDP per Capita)'].mean(),\n",
    "                                          group_3['Economy (GDP per Capita)'].mean(),\n",
    "                                          group_4['Economy (GDP per Capita)'].mean(),\n",
    "                                          group_5['Economy (GDP per Capita)'].mean()],\n",
    "                                 'Family':[group_1['Family'].mean(),\n",
    "                                          group_2['Family'].mean(),\n",
    "                                          group_3['Family'].mean(),\n",
    "                                          group_4['Family'].mean(),\n",
    "                                          group_5['Family'].mean()],\n",
    "                                 'Health':[group_1['Health (Life Expectancy)'].mean(),\n",
    "                                          group_2['Health (Life Expectancy)'].mean(),\n",
    "                                          group_3['Health (Life Expectancy)'].mean(),\n",
    "                                          group_4['Health (Life Expectancy)'].mean(),\n",
    "                                          group_5['Health (Life Expectancy)'].mean()],\n",
    "                                 'Freedom':[group_1['Freedom'].mean(),\n",
    "                                          group_2['Freedom'].mean(),\n",
    "                                          group_3['Freedom'].mean(),\n",
    "                                          group_4['Freedom'].mean(),\n",
    "                                          group_5['Freedom'].mean()],\n",
    "                                 'Trust':[group_1['Trust (Government Corruption)'].mean(),\n",
    "                                          group_2['Trust (Government Corruption)'].mean(),\n",
    "                                          group_3['Trust (Government Corruption)'].mean(),\n",
    "                                          group_4['Trust (Government Corruption)'].mean(),\n",
    "                                          group_5['Trust (Government Corruption)'].mean()],\n",
    "                                 'Generosity':[group_1['Generosity'].mean(),\n",
    "                                          group_2['Generosity'].mean(),\n",
    "                                          group_3['Generosity'].mean(),\n",
    "                                          group_4['Generosity'].mean(),\n",
    "                                          group_5['Generosity'].mean()]},index=index)\n",
    "summary_2015"
   ]
  },
  {
   "cell_type": "code",
   "execution_count": 11,
   "metadata": {},
   "outputs": [
    {
     "data": {
      "text/plain": [
       "<BarContainer object of 5 artists>"
      ]
     },
     "execution_count": 11,
     "metadata": {},
     "output_type": "execute_result"
    },
    {
     "data": {
      "image/png": "[encoded data removed]",
      "text/plain": [
       "<Figure size 432x288 with 1 Axes>"
      ]
     },
     "metadata": {
      "needs_background": "light"
     },
     "output_type": "display_data"
    }
   ],
   "source": [
    "legend = ['group_1','group_2','group_3','group_4','group_5']\n",
    "plt.title('Mean Happiness Score:')\n",
    "plt.bar(legend,[summary_2015.loc[i,'Happiness Score'] for i in legend],alpha=0.8)"
   ]
  },
  {
   "cell_type": "code",
   "execution_count": 12,
   "metadata": {},
   "outputs": [
    {
     "data": {
      "text/plain": [
       "<matplotlib.legend.Legend at 0x19b04063cd0>"
      ]
     },
     "execution_count": 12,
     "metadata": {},
     "output_type": "execute_result"
    },
    {
     "data": {
      "image/png": "[encoded data removed]",
      "text/plain": [
       "<Figure size 432x288 with 1 Axes>"
      ]
     },
     "metadata": {
      "needs_background": "light"
     },
     "output_type": "display_data"
    }
   ],
   "source": [
    "names = ['Economy','Family','Health','Freedom','Trust','Generosity']\n",
    "plt.xticks(rotation=45)\n",
    "for i in legend:\n",
    "    plt.plot(names,summary_2015.loc[i,'Economy':])\n",
    "\n",
    "plt.legend(legend)"
   ]
  },
  {
   "cell_type": "markdown",
   "metadata": {},
   "source": [
    "### Using the above summary we can gain some insights about factors affeting Happiness of a Country in 2015\n",
    "\n",
    "-  <b>Happiness Score</b>: This is the score used to rank the countries so it makes sense that it decreases as we go down the gropus\n",
    "-  <b>Economy</b>: This gives us insight that countries with lower GDP per capita tend to be less happy. \n",
    "-  <b>Family</b>: Countries with bettter Family life have a better happiness score.\n",
    "-  <b>Health</b>: Longer life expectancy leads to happier country.\n",
    "-  <b>Freedom</b>: Freedom doesn't seem to be a great as group_5 is actually above group_4 in Freedom.\n",
    "-  <b>Trust</b>: Trust or Government Corruption is not great for distinguishing between group_2 to group_4 as they have similar score where as group_1 can be distinguished.\n",
    "-  <b>Generosity</b>: Generosity also doesn't seem effective for distinguishing between group_2 to group_4 but group_1 is significantly higher "
   ]
  },
  {
   "cell_type": "markdown",
   "metadata": {},
   "source": [
    "## 2016 World Happiness Report Analysis"
   ]
  },
  {
   "cell_type": "code",
   "execution_count": 13,
   "metadata": {},
   "outputs": [
    {
     "name": "stdout",
     "output_type": "stream",
     "text": [
      "Index(['Country', 'Region', 'Happiness Rank', 'Happiness Score',\n",
      "       'Standard Error', 'Economy (GDP per Capita)', 'Family',\n",
      "       'Health (Life Expectancy)', 'Freedom', 'Trust (Government Corruption)',\n",
      "       'Generosity', 'Dystopia Residual'],\n",
      "      dtype='object')\n",
      "Index(['Country', 'Region', 'Happiness Rank', 'Happiness Score',\n",
      "       'Lower Confidence Interval', 'Upper Confidence Interval',\n",
      "       'Economy (GDP per Capita)', 'Family', 'Health (Life Expectancy)',\n",
      "       'Freedom', 'Trust (Government Corruption)', 'Generosity',\n",
      "       'Dystopia Residual'],\n",
      "      dtype='object')\n"
     ]
    }
   ],
   "source": [
    "print(data_2015.columns)\n",
    "print(data_2016.columns)"
   ]
  },
  {
   "cell_type": "code",
   "execution_count": 14,
   "metadata": {},
   "outputs": [
    {
     "name": "stdout",
     "output_type": "stream",
     "text": [
      "Top 10 Happiest Countries in 2016\n"
     ]
    },
    {
     "data": {
      "text/plain": [
       "0        Denmark\n",
       "1    Switzerland\n",
       "2        Iceland\n",
       "3         Norway\n",
       "4        Finland\n",
       "5         Canada\n",
       "6    Netherlands\n",
       "7    New Zealand\n",
       "8      Australia\n",
       "9         Sweden\n",
       "Name: Country, dtype: object"
      ]
     },
     "execution_count": 14,
     "metadata": {},
     "output_type": "execute_result"
    }
   ],
   "source": [
    "print('Top 10 Happiest Countries in 2016')\n",
    "data_2016.Country.head(10)"
   ]
  },
  {
   "cell_type": "code",
   "execution_count": 15,
   "metadata": {},
   "outputs": [
    {
     "name": "stdout",
     "output_type": "stream",
     "text": [
      "Which region are the top 10 countries from?\n"
     ]
    },
    {
     "data": {
      "text/plain": [
       "<matplotlib.axes._subplots.AxesSubplot at 0x19b03f5bfd0>"
      ]
     },
     "execution_count": 15,
     "metadata": {},
     "output_type": "execute_result"
    },
    {
     "data": {
      "image/png": "[encoded data removed]",
      "text/plain": [
       "<Figure size 432x288 with 1 Axes>"
      ]
     },
     "metadata": {
      "needs_background": "light"
     },
     "output_type": "display_data"
    }
   ],
   "source": [
    "region = data_2015.Region.head(10)\n",
    "print('Which region are the top 10 countries from?')\n",
    "region.value_counts().plot(kind='bar',alpha=0.8)"
   ]
  },
  {
   "cell_type": "code",
   "execution_count": 16,
   "metadata": {},
   "outputs": [
    {
     "name": "stdout",
     "output_type": "stream",
     "text": [
      "Which region do all the countries belong to?\n"
     ]
    },
    {
     "data": {
      "text/plain": [
       "<matplotlib.axes._subplots.AxesSubplot at 0x19b04106250>"
      ]
     },
     "execution_count": 16,
     "metadata": {},
     "output_type": "execute_result"
    },
    {
     "data": {
      "image/png": "[encoded data removed]",
      "text/plain": [
       "<Figure size 432x288 with 1 Axes>"
      ]
     },
     "metadata": {
      "needs_background": "light"
     },
     "output_type": "display_data"
    }
   ],
   "source": [
    "print('Which region do all the countries belong to?')\n",
    "data_2015.Region.value_counts().plot(kind='bar',alpha=0.8)"
   ]
  },
  {
   "cell_type": "code",
   "execution_count": 17,
   "metadata": {},
   "outputs": [
    {
     "name": "stdout",
     "output_type": "stream",
     "text": [
      "Total Number of Countries:  157\n"
     ]
    }
   ],
   "source": [
    "print('Total Number of Countries: ',len(data_2016))"
   ]
  },
  {
   "cell_type": "markdown",
   "metadata": {},
   "source": [
    "### Comparision \n",
    "To compare the countries they are separated in 5 groups based on their Ranks<br>\n",
    "<li>Group 1: 1 - 31\n",
    "<li>Group 2: 32 - 63\n",
    "<li>Group 3: 64 - 95\n",
    "<li>Group 4: 96 - 127\n",
    "<li>Group 5: 128 - 157"
   ]
  },
  {
   "cell_type": "code",
   "execution_count": 18,
   "metadata": {},
   "outputs": [],
   "source": [
    "group_1 = data_2016[0:31]\n",
    "group_2 = data_2016[31:63]\n",
    "group_3 = data_2016[63:95]\n",
    "group_4 = data_2016[95:127]\n",
    "group_5 = data_2016[127:]"
   ]
  },
  {
   "cell_type": "code",
   "execution_count": 19,
   "metadata": {},
   "outputs": [
    {
     "data": {
      "text/html": [
       "<div>\n",
       "<style scoped>\n",
       "    .dataframe tbody tr th:only-of-type {\n",
       "        vertical-align: middle;\n",
       "    }\n",
       "\n",
       "    .dataframe tbody tr th {\n",
       "        vertical-align: top;\n",
       "    }\n",
       "\n",
       "    .dataframe thead th {\n",
       "        text-align: right;\n",
       "    }\n",
       "</style>\n",
       "<table border=\"1\" class=\"dataframe\">\n",
       "  <thead>\n",
       "    <tr style=\"text-align: right;\">\n",
       "      <th></th>\n",
       "      <th>Happiness Score</th>\n",
       "      <th>Economy</th>\n",
       "      <th>Family</th>\n",
       "      <th>Health</th>\n",
       "      <th>Freedom</th>\n",
       "      <th>Trust</th>\n",
       "      <th>Generosity</th>\n",
       "    </tr>\n",
       "  </thead>\n",
       "  <tbody>\n",
       "    <tr>\n",
       "      <th>group_1</th>\n",
       "      <td>7.012194</td>\n",
       "      <td>1.371737</td>\n",
       "      <td>1.049226</td>\n",
       "      <td>0.789513</td>\n",
       "      <td>0.512259</td>\n",
       "      <td>0.244964</td>\n",
       "      <td>0.317554</td>\n",
       "    </tr>\n",
       "    <tr>\n",
       "      <th>group_2</th>\n",
       "      <td>6.074406</td>\n",
       "      <td>1.188163</td>\n",
       "      <td>0.939861</td>\n",
       "      <td>0.662696</td>\n",
       "      <td>0.397435</td>\n",
       "      <td>0.125840</td>\n",
       "      <td>0.197926</td>\n",
       "    </tr>\n",
       "    <tr>\n",
       "      <th>group_3</th>\n",
       "      <td>5.353406</td>\n",
       "      <td>1.012827</td>\n",
       "      <td>0.799904</td>\n",
       "      <td>0.611992</td>\n",
       "      <td>0.344167</td>\n",
       "      <td>0.098377</td>\n",
       "      <td>0.220924</td>\n",
       "    </tr>\n",
       "    <tr>\n",
       "      <th>group_4</th>\n",
       "      <td>4.627813</td>\n",
       "      <td>0.717034</td>\n",
       "      <td>0.635015</td>\n",
       "      <td>0.441983</td>\n",
       "      <td>0.336058</td>\n",
       "      <td>0.105230</td>\n",
       "      <td>0.246339</td>\n",
       "    </tr>\n",
       "    <tr>\n",
       "      <th>group_5</th>\n",
       "      <td>3.794833</td>\n",
       "      <td>0.461951</td>\n",
       "      <td>0.535985</td>\n",
       "      <td>0.271260</td>\n",
       "      <td>0.262696</td>\n",
       "      <td>0.115692</td>\n",
       "      <td>0.232115</td>\n",
       "    </tr>\n",
       "  </tbody>\n",
       "</table>\n",
       "</div>"
      ],
      "text/plain": [
       "         Happiness Score   Economy    Family    Health   Freedom     Trust  \\\n",
       "group_1         7.012194  1.371737  1.049226  0.789513  0.512259  0.244964   \n",
       "group_2         6.074406  1.188163  0.939861  0.662696  0.397435  0.125840   \n",
       "group_3         5.353406  1.012827  0.799904  0.611992  0.344167  0.098377   \n",
       "group_4         4.627813  0.717034  0.635015  0.441983  0.336058  0.105230   \n",
       "group_5         3.794833  0.461951  0.535985  0.271260  0.262696  0.115692   \n",
       "\n",
       "         Generosity  \n",
       "group_1    0.317554  \n",
       "group_2    0.197926  \n",
       "group_3    0.220924  \n",
       "group_4    0.246339  \n",
       "group_5    0.232115  "
      ]
     },
     "execution_count": 19,
     "metadata": {},
     "output_type": "execute_result"
    }
   ],
   "source": [
    "index=['group_1','group_2','group_3','group_4','group_5']\n",
    "summary_2016 = pd.DataFrame(data={'Happiness Score':[group_1['Happiness Score'].mean(),\n",
    "                                          group_2['Happiness Score'].mean(),\n",
    "                                          group_3['Happiness Score'].mean(),\n",
    "                                          group_4['Happiness Score'].mean(),\n",
    "                                          group_5['Happiness Score'].mean()],\n",
    "                                 'Economy':[group_1['Economy (GDP per Capita)'].mean(),\n",
    "                                          group_2['Economy (GDP per Capita)'].mean(),\n",
    "                                          group_3['Economy (GDP per Capita)'].mean(),\n",
    "                                          group_4['Economy (GDP per Capita)'].mean(),\n",
    "                                          group_5['Economy (GDP per Capita)'].mean()],\n",
    "                                 'Family':[group_1['Family'].mean(),\n",
    "                                          group_2['Family'].mean(),\n",
    "                                          group_3['Family'].mean(),\n",
    "                                          group_4['Family'].mean(),\n",
    "                                          group_5['Family'].mean()],\n",
    "                                 'Health':[group_1['Health (Life Expectancy)'].mean(),\n",
    "                                          group_2['Health (Life Expectancy)'].mean(),\n",
    "                                          group_3['Health (Life Expectancy)'].mean(),\n",
    "                                          group_4['Health (Life Expectancy)'].mean(),\n",
    "                                          group_5['Health (Life Expectancy)'].mean()],\n",
    "                                 'Freedom':[group_1['Freedom'].mean(),\n",
    "                                          group_2['Freedom'].mean(),\n",
    "                                          group_3['Freedom'].mean(),\n",
    "                                          group_4['Freedom'].mean(),\n",
    "                                          group_5['Freedom'].mean()],\n",
    "                                 'Trust':[group_1['Trust (Government Corruption)'].mean(),\n",
    "                                          group_2['Trust (Government Corruption)'].mean(),\n",
    "                                          group_3['Trust (Government Corruption)'].mean(),\n",
    "                                          group_4['Trust (Government Corruption)'].mean(),\n",
    "                                          group_5['Trust (Government Corruption)'].mean()],\n",
    "                                 'Generosity':[group_1['Generosity'].mean(),\n",
    "                                          group_2['Generosity'].mean(),\n",
    "                                          group_3['Generosity'].mean(),\n",
    "                                          group_4['Generosity'].mean(),\n",
    "                                          group_5['Generosity'].mean()]},index=index)\n",
    "summary_2016"
   ]
  },
  {
   "cell_type": "code",
   "execution_count": 23,
   "metadata": {},
   "outputs": [
    {
     "data": {
      "text/plain": [
       "<BarContainer object of 5 artists>"
      ]
     },
     "execution_count": 23,
     "metadata": {},
     "output_type": "execute_result"
    },
    {
     "data": {
      "image/png": "[encoded data removed]",
      "text/plain": [
       "<Figure size 432x288 with 1 Axes>"
      ]
     },
     "metadata": {
      "needs_background": "light"
     },
     "output_type": "display_data"
    }
   ],
   "source": [
    "legend = ['group_1','group_2','group_3','group_4','group_5']\n",
    "plt.title('Mean Happiness Score:')\n",
    "plt.bar(legend,[summary_2015.loc[i,'Happiness Score'] for i in legend],alpha=0.8)"
   ]
  },
  {
   "cell_type": "code",
   "execution_count": 21,
   "metadata": {},
   "outputs": [
    {
     "data": {
      "text/plain": [
       "<matplotlib.legend.Legend at 0x19b041dab20>"
      ]
     },
     "execution_count": 21,
     "metadata": {},
     "output_type": "execute_result"
    },
    {
     "data": {
      "image/png": "[encoded data removed]",
      "text/plain": [
       "<Figure size 432x288 with 1 Axes>"
      ]
     },
     "metadata": {
      "needs_background": "light"
     },
     "output_type": "display_data"
    }
   ],
   "source": [
    "names = ['Economy','Family','Health','Freedom','Trust','Generosity']\n",
    "plt.xticks(rotation=45)\n",
    "for i in legend:\n",
    "    plt.plot(names,summary_2015.loc[i,'Economy':])\n",
    "\n",
    "plt.legend(legend)"
   ]
  },
  {
   "cell_type": "code",
   "execution_count": null,
   "metadata": {},
   "outputs": [],
   "source": []
  }
 ],
 "metadata": {
  "kernelspec": {
   "display_name": "Python 3",
   "language": "python",
   "name": "python3"
  },
  "language_info": {
   "codemirror_mode": {
    "name": "ipython",
    "version": 3
   },
   "file_extension": ".py",
   "mimetype": "text/x-python",
   "name": "python",
   "nbconvert_exporter": "python",
   "pygments_lexer": "ipython3",
   "version": "3.8.1"
  }
 },
 "nbformat": 4,
 "nbformat_minor": 4
}
